{
 "cells": [
  {
   "cell_type": "markdown",
   "id": "ccf88cca",
   "metadata": {},
   "source": [
    "# Data Science Tools and Ecosystem"
   ]
  },
  {
   "cell_type": "markdown",
   "id": "3165ede3",
   "metadata": {},
   "source": [
    "In this notebook, Data Science Tools and Ecosystem are summarized."
   ]
  },
  {
   "cell_type": "markdown",
   "id": "b5b47511",
   "metadata": {},
   "source": [
    "**Objectives:**\n",
    "- List the most popular programming languages for data science.\n",
    "- Identify the commonly used libraries in data science.\n",
    "- Explore the text formatting options available in Jupyter Notebooks.\n",
    "- Review the basic syntax for comments and arithmetic operations in code."
   ]
  },
  {
   "cell_type": "markdown",
   "id": "5814f098",
   "metadata": {},
   "source": [
    "Some of the popular languages that Data Scientists use are:\n",
    "1. Python\n",
    "2. SQL\n",
    "3. R\n",
    "4. Julia"
   ]
  },
  {
   "cell_type": "markdown",
   "id": "1d97ca2f",
   "metadata": {},
   "source": [
    "Some of the commonly used libraries used by Data Scientists include:\n",
    "1. Pandas\n",
    "2. Seaborn\n",
    "3. ggplot2 \n",
    "4. Matplotlib\n",
    "5. NumPy"
   ]
  },
  {
   "cell_type": "markdown",
   "id": "fb4fd0fe",
   "metadata": {},
   "source": [
    "|Data Science Tools|\n",
    "|------------------|\n",
    "|Jupyter Notebook|\n",
    "|GitHub|\n",
    "|RStudio|"
   ]
  },
  {
   "cell_type": "markdown",
   "id": "5f323c5f",
   "metadata": {},
   "source": [
    "### Below are a few examples of evaluating arithmetic expressions in Python"
   ]
  },
  {
   "cell_type": "code",
   "execution_count": 1,
   "id": "68b1a9b3",
   "metadata": {
    "scrolled": false
   },
   "outputs": [
    {
     "name": "stdout",
     "output_type": "stream",
     "text": [
      "17\n"
     ]
    }
   ],
   "source": [
    "#This a simple arithmetic expression to mutiply then add integers\n",
    "\n",
    "print ((3*4)+5)"
   ]
  },
  {
   "cell_type": "code",
   "execution_count": 3,
   "id": "38f4eba5",
   "metadata": {},
   "outputs": [
    {
     "name": "stdout",
     "output_type": "stream",
     "text": [
      "3.3333333333333335\n"
     ]
    }
   ],
   "source": [
    "#This will convert 200 minutes to hours by diving by 60\n",
    "print (200/60)"
   ]
  },
  {
   "cell_type": "markdown",
   "id": "093753d2",
   "metadata": {},
   "source": [
    "## Author\n",
    "Simón Zarama "
   ]
  },
  {
   "cell_type": "code",
   "execution_count": null,
   "id": "aaad5155",
   "metadata": {},
   "outputs": [],
   "source": []
  }
 ],
 "metadata": {
  "kernelspec": {
   "display_name": "Python 3 (ipykernel)",
   "language": "python",
   "name": "python3"
  },
  "language_info": {
   "codemirror_mode": {
    "name": "ipython",
    "version": 3
   },
   "file_extension": ".py",
   "mimetype": "text/x-python",
   "name": "python",
   "nbconvert_exporter": "python",
   "pygments_lexer": "ipython3",
   "version": "3.10.11"
  }
 },
 "nbformat": 4,
 "nbformat_minor": 5
}
